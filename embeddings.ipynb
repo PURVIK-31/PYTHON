{
 "cells": [
  {
   "cell_type": "code",
   "execution_count": 1,
   "metadata": {},
   "outputs": [
    {
     "ename": "ModuleNotFoundError",
     "evalue": "No module named 'gensim'",
     "output_type": "error",
     "traceback": [
      "\u001b[1;31m---------------------------------------------------------------------------\u001b[0m",
      "\u001b[1;31mModuleNotFoundError\u001b[0m                       Traceback (most recent call last)",
      "Cell \u001b[1;32mIn[1], line 6\u001b[0m\n\u001b[0;32m      1\u001b[0m \u001b[38;5;66;03m# First, let's install what we need\u001b[39;00m\n\u001b[0;32m      2\u001b[0m \u001b[38;5;66;03m# Run these in your command prompt/terminal:\u001b[39;00m\n\u001b[0;32m      3\u001b[0m \u001b[38;5;66;03m# pip install gensim nltk\u001b[39;00m\n\u001b[0;32m      4\u001b[0m \n\u001b[0;32m      5\u001b[0m \u001b[38;5;66;03m# Basic Code Example\u001b[39;00m\n\u001b[1;32m----> 6\u001b[0m \u001b[38;5;28;01mfrom\u001b[39;00m \u001b[38;5;21;01mgensim\u001b[39;00m\u001b[38;5;21;01m.\u001b[39;00m\u001b[38;5;21;01mmodels\u001b[39;00m \u001b[38;5;28;01mimport\u001b[39;00m Word2Vec\n\u001b[0;32m      7\u001b[0m \u001b[38;5;28;01mimport\u001b[39;00m \u001b[38;5;21;01mnltk\u001b[39;00m\n\u001b[0;32m      8\u001b[0m nltk\u001b[38;5;241m.\u001b[39mdownload(\u001b[38;5;124m'\u001b[39m\u001b[38;5;124mpunkt\u001b[39m\u001b[38;5;124m'\u001b[39m)  \u001b[38;5;66;03m# Download tools we need\u001b[39;00m\n",
      "\u001b[1;31mModuleNotFoundError\u001b[0m: No module named 'gensim'"
     ]
    }
   ],
   "source": [
    "# First, let's install what we need\n",
    "# Run these in your command prompt/terminal:\n",
    "# pip install gensim nltk\n",
    "\n",
    "# Basic Code Example\n",
    "from gensim.models import Word2Vec\n",
    "import nltk\n",
    "nltk.download('punkt')  # Download tools we need\n",
    "\n",
    "# 1. Our sample sentences (like teaching material for the computer)\n",
    "simple_sentences = [\n",
    "    \"I love dogs\",\n",
    "    \"Dogs love playing\",\n",
    "    \"Cats are cute\",\n",
    "    \"Dogs and cats are pets\"\n",
    "]\n",
    "\n",
    "# 2. Break sentences into words\n",
    "words_in_sentences = [sentence.lower().split() for sentence in simple_sentences]\n",
    "\n",
    "# 3. Create our word embedding model\n",
    "model = Word2Vec(\n",
    "    sentences=words_in_sentences,\n",
    "    vector_size=10,  # Each word becomes 10 numbers\n",
    "    window=2,        # Look at 2 words before and after\n",
    "    min_count=1      # Include all words, even if they appear only once\n",
    ")\n",
    "\n",
    "# 4. Let's see what we made!\n",
    "def explore_words():\n",
    "    # Get numbers for 'dogs'\n",
    "    dog_vector = model.wv['dogs']\n",
    "    print(\"\\n'dogs' looks like this in numbers:\", dog_vector[:3], \"...\")\n",
    "\n",
    "    # Find similar words\n",
    "    try:\n",
    "        similar = model.wv.most_similar('dogs')\n",
    "        print(\"\\nWords similar to 'dogs':\", similar)\n",
    "    except KeyError:\n",
    "        print(\"\\nOops! That word isn't in our tiny example!\")\n",
    "\n",
    "# Run it!\n",
    "explore_words()"
   ]
  },
  {
   "cell_type": "code",
   "execution_count": null,
   "metadata": {},
   "outputs": [],
   "source": []
  }
 ],
 "metadata": {
  "kernelspec": {
   "display_name": "Python 3",
   "language": "python",
   "name": "python3"
  },
  "language_info": {
   "codemirror_mode": {
    "name": "ipython",
    "version": 3
   },
   "file_extension": ".py",
   "mimetype": "text/x-python",
   "name": "python",
   "nbconvert_exporter": "python",
   "pygments_lexer": "ipython3",
   "version": "3.11.9"
  }
 },
 "nbformat": 4,
 "nbformat_minor": 4
}
