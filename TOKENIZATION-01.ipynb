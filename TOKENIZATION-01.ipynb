{
 "cells": [
  {
   "cell_type": "code",
   "execution_count": 16,
   "metadata": {},
   "outputs": [
    {
     "name": "stderr",
     "output_type": "stream",
     "text": [
      "[nltk_data] Downloading package punkt_tab to\n",
      "[nltk_data]     C:\\Users\\DELL\\AppData\\Roaming\\nltk_data...\n",
      "[nltk_data]   Unzipping tokenizers\\punkt_tab.zip.\n",
      "[nltk_data] Downloading package punkt to\n",
      "[nltk_data]     C:\\Users\\DELL\\AppData\\Roaming\\nltk_data...\n",
      "[nltk_data]   Package punkt is already up-to-date!\n"
     ]
    },
    {
     "name": "stdout",
     "output_type": "stream",
     "text": [
      "\n",
      "Word Tokens:\n",
      "['Hello', '!', 'This', 'is', 'a', 'simple', 'example', '.', 'We', 'will', 'try', 'basic', 'tokenization', '.']\n",
      "\n",
      "Sentence Tokens:\n",
      "['Hello!', 'This is a simple example.', 'We will try basic tokenization.']\n",
      "\n",
      "Character Tokens:\n",
      "['H', 'e', 'l', 'l', 'o', '!', ' ', 'T', 'h', 'i', 's', ' ', 'i', 's', ' ', 'a', ' ', 's', 'i', 'm', 'p', 'l', 'e', ' ', 'e', 'x', 'a', 'm', 'p', 'l', 'e', '.', ' ', 'W', 'e', ' ', 'w', 'i', 'l', 'l', ' ', 't', 'r', 'y', ' ', 'b', 'a', 's', 'i', 'c', ' ', 't', 'o', 'k', 'e', 'n', 'i', 'z', 'a', 't', 'i', 'o', 'n', '.']\n"
     ]
    }
   ],
   "source": [
    "    # Import NLTK\n",
    "    import nltk\n",
    "    nltk.download('punkt_tab')\n",
    "    # Download required NLTK data\n",
    "    nltk.download('punkt')\n",
    "    \n",
    "    # Sample text\n",
    "    text = \"Hello! This is a simple example. We will try basic tokenization.\"\n",
    "    \n",
    "    # Word tokenization\n",
    "    words = nltk.word_tokenize(text)\n",
    "    print(\"\\nWord Tokens:\")\n",
    "    print(words)\n",
    "    \n",
    "    # Sentence tokenization\n",
    "    sentences = nltk.sent_tokenize(text)\n",
    "    print(\"\\nSentence Tokens:\")\n",
    "    print(sentences)\n",
    "    \n",
    "    # Simple character tokenization\n",
    "    chars = list(text)\n",
    "    print(\"\\nCharacter Tokens:\")\n",
    "    print(chars)\n"
   ]
  },
  {
   "cell_type": "code",
   "execution_count": null,
   "metadata": {},
   "outputs": [],
   "source": []
  },
  {
   "cell_type": "code",
   "execution_count": null,
   "metadata": {},
   "outputs": [],
   "source": []
  }
 ],
 "metadata": {
  "kernelspec": {
   "display_name": "Python 3",
   "language": "python",
   "name": "python3"
  },
  "language_info": {
   "codemirror_mode": {
    "name": "ipython",
    "version": 3
   },
   "file_extension": ".py",
   "mimetype": "text/x-python",
   "name": "python",
   "nbconvert_exporter": "python",
   "pygments_lexer": "ipython3",
   "version": "3.13.0"
  }
 },
 "nbformat": 4,
 "nbformat_minor": 4
}
