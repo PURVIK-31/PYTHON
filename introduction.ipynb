{
 "cells": [
  {
   "cell_type": "markdown",
   "id": "023e9a9b-d972-4e4a-bdc6-4ecc0655a816",
   "metadata": {},
   "source": [
    "THIS IS A JUPYTER NOTERBOOK !! "
   ]
  },
  {
   "cell_type": "code",
   "execution_count": 1,
   "id": "1981aba1-289c-4a3d-a499-33b7be072918",
   "metadata": {},
   "outputs": [
    {
     "name": "stdout",
     "output_type": "stream",
     "text": [
      "hi there the first python notebook\n"
     ]
    }
   ],
   "source": [
    "print(\"hi there the first python notebook\")\n"
   ]
  }
 ],
 "metadata": {
  "kernelspec": {
   "display_name": "Python 3 (ipykernel)",
   "language": "python",
   "name": "python3"
  },
  "language_info": {
   "codemirror_mode": {
    "name": "ipython",
    "version": 3
   },
   "file_extension": ".py",
   "mimetype": "text/x-python",
   "name": "python",
   "nbconvert_exporter": "python",
   "pygments_lexer": "ipython3",
   "version": "3.13.0"
  }
 },
 "nbformat": 4,
 "nbformat_minor": 5
}
