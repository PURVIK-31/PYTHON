{
 "cells": [
  {
   "cell_type": "code",
   "execution_count": 1,
   "id": "ba0714f5-3eb5-425e-84e3-c04f4b7bf2a2",
   "metadata": {},
   "outputs": [
    {
     "name": "stdout",
     "output_type": "stream",
     "text": [
      "inside the basic file\n"
     ]
    }
   ],
   "source": [
    "print(\"inside the basic file\")"
   ]
  },
  {
   "cell_type": "code",
   "execution_count": 2,
   "id": "21681e7a-6bd1-4269-8222-7fd70ff0d73a",
   "metadata": {},
   "outputs": [
    {
     "data": {
      "text/plain": [
       "2"
      ]
     },
     "execution_count": 2,
     "metadata": {},
     "output_type": "execute_result"
    }
   ],
   "source": [
    "1+1"
   ]
  },
  {
   "cell_type": "code",
   "execution_count": 3,
   "id": "c1f69a2d-0de4-409f-9a19-01c746860093",
   "metadata": {},
   "outputs": [],
   "source": [
    " i={1,2}\n"
   ]
  }
 ],
 "metadata": {
  "kernelspec": {
   "display_name": "Python 3",
   "language": "python",
   "name": "python3"
  },
  "language_info": {
   "codemirror_mode": {
    "name": "ipython",
    "version": 3
   },
   "file_extension": ".py",
   "mimetype": "text/x-python",
   "name": "python",
   "nbconvert_exporter": "python",
   "pygments_lexer": "ipython3",
   "version": "3.13.0"
  }
 },
 "nbformat": 4,
 "nbformat_minor": 5
}
